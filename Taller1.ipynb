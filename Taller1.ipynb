{
 "cells": [
  {
   "cell_type": "markdown",
   "id": "cea3ff28",
   "metadata": {},
   "source": [
    "## Taller 1\n",
    "* Aldemar Figueroa (202021091)"
   ]
  },
  {
   "cell_type": "code",
   "execution_count": 31,
   "id": "e00acfa3-d339-4d71-9d86-751edb203b56",
   "metadata": {
    "tags": []
   },
   "outputs": [
    {
     "name": "stdout",
     "output_type": "stream",
     "text": [
      "[6, 3, 10, 5, 16, 8, 4, 2, 1]\n"
     ]
    }
   ],
   "source": [
    "def punto_1_a(n):\n",
    "    lista = []\n",
    "    lista.append(n)\n",
    "\n",
    "    while n!=1:\n",
    "        if n%2 == 0:   \n",
    "            n=int(n/2)\n",
    "            lista.append(n)\n",
    "        elif n%2 != 0:\n",
    "            n=int((n*3)+1)\n",
    "            lista.append(n)\n",
    "\n",
    "    return lista\n",
    "\n",
    "resultado = punto_1_a(6)\n",
    "print(resultado)"
   ]
  },
  {
   "cell_type": "code",
   "execution_count": 34,
   "id": "c8d0f55f",
   "metadata": {},
   "outputs": [
    {
     "name": "stdout",
     "output_type": "stream",
     "text": [
      "2\n",
      "[2, 1]\n",
      "8\n",
      "[3, 10, 5, 16, 8, 4, 2, 1]\n",
      "3\n",
      "[4, 2, 1]\n",
      "6\n",
      "[5, 16, 8, 4, 2, 1]\n",
      "9\n",
      "[6, 3, 10, 5, 16, 8, 4, 2, 1]\n",
      "17\n",
      "[7, 22, 11, 34, 17, 52, 26, 13, 40, 20, 10, 5, 16, 8, 4, 2, 1]\n",
      "4\n",
      "[8, 4, 2, 1]\n",
      "20\n",
      "[9, 28, 14, 7, 22, 11, 34, 17, 52, 26, 13, 40, 20, 10, 5, 16, 8, 4, 2, 1]\n",
      "0\n"
     ]
    }
   ],
   "source": [
    "def punto_1_b(m):\n",
    "    n=0\n",
    "\n",
    "    for i in range(2,m):\n",
    "        secuencia_i = punto_1_a(i)\n",
    "        longitud = len(secuencia_i)\n",
    "        \n",
    "        if longitud > n:\n",
    "            n=longitud\n",
    "\n",
    "    return n\n",
    "\n",
    "resultado = punto_1_b(10)\n",
    "print(resultado)"
   ]
  },
  {
   "cell_type": "code",
   "execution_count": 13,
   "id": "c726bdf2",
   "metadata": {},
   "outputs": [
    {
     "name": "stdout",
     "output_type": "stream",
     "text": [
      "Pedro\n",
      "Juan\n",
      "Maria\n",
      "Luisa\n"
     ]
    }
   ],
   "source": [
    "# Ciclos\n",
    "# For\n",
    "lista = [\"Pedro\", \"Juan\", \"Maria\", \"Luisa\"]\n",
    "\n",
    "for i in lista:\n",
    "    print(i)"
   ]
  },
  {
   "cell_type": "code",
   "execution_count": 16,
   "id": "8a437da3",
   "metadata": {},
   "outputs": [
    {
     "name": "stdout",
     "output_type": "stream",
     "text": [
      "Pedro\n",
      "Maria\n"
     ]
    }
   ],
   "source": [
    "# For utilizando indice\n",
    "for i in range(len(lista)):\n",
    "    if i%2 == 0:   \n",
    "        print(lista[i])"
   ]
  },
  {
   "cell_type": "code",
   "execution_count": 19,
   "id": "130af4dd",
   "metadata": {},
   "outputs": [
    {
     "name": "stdout",
     "output_type": "stream",
     "text": [
      "0\n",
      "1\n",
      "2\n",
      "3\n",
      "4\n",
      "5\n",
      "6\n",
      "7\n",
      "8\n"
     ]
    }
   ],
   "source": [
    "# While\n",
    "\n",
    "i=0 \n",
    "while i<9:\n",
    "    print(i)\n",
    "    i+=1"
   ]
  },
  {
   "cell_type": "markdown",
   "id": "b9e0ffc1",
   "metadata": {},
   "source": []
  }
 ],
 "metadata": {
  "kernelspec": {
   "display_name": "Python 3 (ipykernel)",
   "language": "python",
   "name": "python3"
  },
  "language_info": {
   "codemirror_mode": {
    "name": "ipython",
    "version": 3
   },
   "file_extension": ".py",
   "mimetype": "text/x-python",
   "name": "python",
   "nbconvert_exporter": "python",
   "pygments_lexer": "ipython3",
   "version": "3.11.5"
  }
 },
 "nbformat": 4,
 "nbformat_minor": 5
}
